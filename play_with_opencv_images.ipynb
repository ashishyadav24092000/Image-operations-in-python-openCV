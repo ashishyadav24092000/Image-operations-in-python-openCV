{
 "cells": [
  {
   "cell_type": "code",
   "execution_count": null,
   "id": "fec4c0d5",
   "metadata": {},
   "outputs": [],
   "source": [
    "## FOR SIMPLY DISPLAYING THE IMAGE\n",
    "import cv2\n",
    "\n",
    "path = '/home/ashish/OpenCV-computer vision projects/project1_read_write_create_img/lena.jpg'\n",
    "img = cv2.imread(path,1) ##flag: This specifies the way in which the image must be read from the system.\n",
    "## flag=1 for color image,flag=0 for grayscale mode,flag=-1 loads imageas it is including alpha channel.\n",
    "cv2.imshow(\"Dear Lena's picture \",img)\n",
    "\n",
    "cv2.waitKey(0)\n",
    "cv2.destroyAllWindows()"
   ]
  },
  {
   "cell_type": "code",
   "execution_count": null,
   "id": "5550ac97",
   "metadata": {},
   "outputs": [],
   "source": [
    "## FOR DISPLAYING THE IMAGE WITH A RED LINE\n",
    "import cv2\n",
    "\n",
    "path = '/home/ashish/OpenCV-computer vision projects/project1_read_write_create_img/lena.jpg'\n",
    "\n",
    "img = cv2.imread(path,1)\n",
    "img_w_line = cv2.line(img,(0,0),(255,255),(0,0,255),5)\n",
    "\n",
    "cv2.imshow('image with line',img_w_line)\n",
    "\n",
    "cv2.waitKey(0)\n",
    "cv2.destroyAllWindows()"
   ]
  },
  {
   "cell_type": "code",
   "execution_count": null,
   "id": "a55effac",
   "metadata": {},
   "outputs": [],
   "source": [
    "## FOR DISPLAYING THE IMAGE WITH A BLUE LINE\n",
    "import cv2\n",
    "\n",
    "path = '/home/ashish/OpenCV-computer vision projects/project1_read_write_create_img/lena.jpg'\n",
    "img = cv2.imread(path,1)\n",
    "img_b_line = cv2.line(img,(0,0),(255,255),(147,96,44),10)\n",
    "\n",
    "cv2.imshow('LINE IMAGE',img_b_line)\n",
    "cv2.waitKey(0)\n",
    "cv2.destroyAllWindows()"
   ]
  },
  {
   "cell_type": "code",
   "execution_count": null,
   "id": "fe7e7634",
   "metadata": {},
   "outputs": [],
   "source": [
    "## For adding another arrowed line\n",
    "import cv2\n",
    "\n",
    "path = '/home/ashish/OpenCV-computer vision projects/project1_read_write_create_img/lena.jpg'\n",
    "img = cv2.imread(path,1)\n",
    "cv2.line(img,(0,0),(255,255),(0,255,255),10)\n",
    "cv2.arrowedLine(img,(0,255),(255,255),(211,137,136),10)\n",
    "cv2.imshow('DOUBLE_LINE_IMG',img)\n",
    "\n",
    "img_2 = cv2.rectangle(img,(384,0),(510,120),(0,0,255),5)\n",
    "cv2.imshow('Rectangle',img_2)\n",
    "img_3 = cv2.rectangle(img,(384,0),(510,120),(0,0,255),-1)\n",
    "cv2.imshow('filled rectangle',img_3)\n",
    "\n",
    "cv2.waitKey(0) & 0xFF\n",
    "cv2.destroyAllWindows()"
   ]
  },
  {
   "cell_type": "code",
   "execution_count": null,
   "id": "a6da45de",
   "metadata": {},
   "outputs": [],
   "source": [
    "## Drawing another geometric shape inside circle\n",
    "import cv2\n",
    "\n",
    "path = '/home/ashish/OpenCV-computer vision projects/project1_read_write_create_img/lena.jpg'\n",
    "img = cv2.imread(path,1)\n",
    "\n",
    "cv2.circle(img,(447,63),63,(0,255,0),-1)\n",
    "\n",
    "cv2.imshow('Circled image',img)\n",
    "\n",
    "cv2.waitKey(0)\n",
    "cv2.destroyAllWindows()"
   ]
  },
  {
   "cell_type": "code",
   "execution_count": null,
   "id": "e4baadc1",
   "metadata": {},
   "outputs": [],
   "source": [
    "## writing text on an image\n",
    "import cv2\n",
    "path = '/home/ashish/OpenCV-computer vision projects/project1_read_write_create_img/lena.jpg'\n",
    "img = cv2.imread(path,1)\n",
    "\n",
    "cv2.line(img,(0,0),(255,255),(147,96,44),10)\n",
    "cv2.arrowedLine(img,(0,255),(255,255),(255,0,0),10)\n",
    "\n",
    "cv2. rectangle(img,(384,0),(510,128),(0,0,255),10)\n",
    "cv2.circle(img,(447,63),63,(0,255,0),-1)\n",
    "\n",
    "font = cv2.FONT_HERSHEY_SIMPLEX\n",
    "cv2.putText(img,'Opencv',(10,500),font,4,(255,255,255),10,cv2.LINE_AA)\n",
    "\n",
    "cv2.imshow('font-image',img)\n",
    "cv2.waitKey(0)\n",
    "cv2.destroyAllWindows()"
   ]
  },
  {
   "cell_type": "code",
   "execution_count": null,
   "id": "cdabf657",
   "metadata": {},
   "outputs": [],
   "source": [
    "## writing text on an image\n",
    "import cv2\n",
    "import numpy as np\n",
    "path = '/home/ashish/OpenCV-computer vision projects/project1_read_write_create_img/lena.jpg'\n",
    "##img = cv2.imread(path,1)\n",
    "img = np.zeros([512,512,3],np.uint8)\n",
    "cv2.line(img,(0,0),(255,255),(147,96,44),10)\n",
    "cv2.arrowedLine(img,(0,255),(255,255),(255,0,0),10)\n",
    "\n",
    "cv2. rectangle(img,(384,0),(510,128),(0,0,255),10)\n",
    "cv2.circle(img,(447,63),63,(0,255,0),-1)\n",
    "\n",
    "font = cv2.FONT_HERSHEY_SIMPLEX\n",
    "cv2.putText(img,'Opencv',(10,500),font,4,(255,255,255),10,cv2.LINE_AA)\n",
    "\n",
    "cv2.imshow('font-image',img)\n",
    "cv2.waitKey(0)\n",
    "cv2.destroyAllWindows()"
   ]
  },
  {
   "cell_type": "code",
   "execution_count": null,
   "id": "82be24b3",
   "metadata": {},
   "outputs": [],
   "source": []
  }
 ],
 "metadata": {
  "kernelspec": {
   "display_name": "Python 3",
   "language": "python",
   "name": "python3"
  },
  "language_info": {
   "codemirror_mode": {
    "name": "ipython",
    "version": 3
   },
   "file_extension": ".py",
   "mimetype": "text/x-python",
   "name": "python",
   "nbconvert_exporter": "python",
   "pygments_lexer": "ipython3",
   "version": "3.8.8"
  }
 },
 "nbformat": 4,
 "nbformat_minor": 5
}
