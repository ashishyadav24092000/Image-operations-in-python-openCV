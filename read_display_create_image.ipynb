{
 "cells": [
  {
   "cell_type": "markdown",
   "id": "c61073e8",
   "metadata": {},
   "source": [
    "# Reading,creating and displaying an image in python using computer vision library \n",
    "# ----> Opencv"
   ]
  },
  {
   "cell_type": "code",
   "execution_count": 6,
   "id": "58c0aa95",
   "metadata": {},
   "outputs": [],
   "source": [
    "import cv2 \n",
    "squirrel = cv2.imread('/home/ashish/OpenCV-computer vision projects/project1_read_write_create_img/squirrel_cls.jpg',-1)\n",
    "## displaying the image\n",
    "cv2.imshow('OUR SQUIRREL IMAGE',squirrel)\n",
    "k = cv2.waitKey(0) & 0xff             ## this ---> & 0xff is required only in some exceptional cases for 64 bit machines.\n",
    "\n",
    "if k == 27:              ## k=27 is the code for esc(Escape) button of keyboard.\n",
    "    cv2.destroyAllWindows()\n",
    "elif k == ord('s'):   ## to check if buton s is Entered from keyboard.\n",
    "    cv2.imwrite('fake_squirrel.jpg',squirrel)\n",
    "    cv2.destroyAllWindows()"
   ]
  },
  {
   "cell_type": "code",
   "execution_count": null,
   "id": "ebc52452",
   "metadata": {},
   "outputs": [],
   "source": []
  },
  {
   "cell_type": "code",
   "execution_count": null,
   "id": "5fbd89be",
   "metadata": {},
   "outputs": [],
   "source": []
  }
 ],
 "metadata": {
  "kernelspec": {
   "display_name": "Python 3",
   "language": "python",
   "name": "python3"
  },
  "language_info": {
   "codemirror_mode": {
    "name": "ipython",
    "version": 3
   },
   "file_extension": ".py",
   "mimetype": "text/x-python",
   "name": "python",
   "nbconvert_exporter": "python",
   "pygments_lexer": "ipython3",
   "version": "3.8.8"
  }
 },
 "nbformat": 4,
 "nbformat_minor": 5
}
